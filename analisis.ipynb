{
 "cells": [
  {
   "cell_type": "markdown",
   "id": "942ccac7-2492-4ba5-a6a9-58d466c2d6b3",
   "metadata": {},
   "source": [
    "# TP0: Introducción al Análisis de Datos\n",
    "## Preguntas Guía\n",
    "\n",
    "Se desea evaluar qué factores influyen en la captura de un Pokemon teniendo en cuenta los parámetros del mismo junto con la pokebola utilizada. Para ello se deberán generar distintos gráficos que representen las respuestas a las siguientes preguntas guía:\n",
    "\n",
    "1. Acerca de las pokebolas:\n",
    "    1. Ejecutando la función 100 veces, para cada Pokemon en condiciones ideales (HP: 100%, LVL 100) ¿Cuál es la probabilidad de capturar promedio para cada pokebola?\n",
    "    2. ¿Es cierto que algunas pokebolas son más o menos efectivas dependiendo de propiedades intrínsecas de cada Pokemon? Justificar.\n",
    "       > **Sugerencia**: Comparar efectividad (_success/total_attemps_) como proporción de la efectividad de la Pokebola básica para cada Pokemon\n",
    "\n",
    "2. Acerca del estado del Pokemon:\n",
    "    1. ¿Las condiciones de salud tienen algún efecto sobre la efectividad de la captura? Si es ası́, ¿Cuál es más o menos efectiva?\n",
    "    2. ¿Cómo afectan los puntos de vida a la efectividad de la captura?\n",
    "       > **Sugerencia**: Elegir uno o dos Pokemones y manteniendo el resto de los parámetros constantes, calcular la probabilidad de captura para distintos HP %\n",
    "\n",
    "    3. ¿Qué parámetros son los que más afectan la probabilidad de captura?\n",
    "    4. Teniendo en cuenta uno o dos pokemones distintos: ¿Qué combinación de condiciones (propiedades mutables) y pokebola conviene utilizar para capturarlos?\n",
    "    5. A partir del punto anterior, ¿serı́a efectiva otra combinación de parámetros teniendo en cuenta un nivel del pokemon más bajo (o más alto)?"
   ]
  },
  {
   "cell_type": "markdown",
   "id": "9c4f8fc7-6750-49f4-b88f-46384a2931b2",
   "metadata": {},
   "source": [
    "## Resolución\n",
    "Primero inicializamos el entorno, agregando las librerías que vamos a estar utilizando:"
   ]
  },
  {
   "cell_type": "code",
   "execution_count": 2,
   "id": "567519a3-f6f6-424f-a6f5-826b18313e12",
   "metadata": {},
   "outputs": [],
   "source": [
    "import json\n",
    "import sys\n",
    "\n",
    "from src.catching import attempt_catch\n",
    "from src.pokemon import PokemonFactory, StatusEffect"
   ]
  },
  {
   "cell_type": "markdown",
   "id": "7e1b5676-33f0-48f0-ab8c-bc2cf81f46ea",
   "metadata": {},
   "source": [
    "Instanciamos un factory de Pokemones"
   ]
  },
  {
   "cell_type": "code",
   "execution_count": 4,
   "id": "27d706a2-e9a2-4d9d-abed-a8b97fe40eb4",
   "metadata": {},
   "outputs": [],
   "source": [
    "factory = PokemonFactory(\"pokemon.json\")"
   ]
  },
  {
   "cell_type": "markdown",
   "id": "42d9e17b-df39-45db-b42b-acf307546e78",
   "metadata": {},
   "source": [
    "Tenemos dos archivos de configuración para las pruebas. Uno de un **Caterpie** y el otro de un **Snorlax**. Vamos a declarar los archivos para poder realizar las pruebas"
   ]
  },
  {
   "cell_type": "code",
   "execution_count": 5,
   "id": "6c29307f-8852-439f-832b-5469bfceda8b",
   "metadata": {},
   "outputs": [],
   "source": [
    "caterpie_path = \"configs/caterpie.json\"\n",
    "snorlax_path = \"configs/caterpie.json\""
   ]
  },
  {
   "cell_type": "code",
   "execution_count": null,
   "id": "6a8944b7-f1cd-40a8-8d92-f5d627d66b7b",
   "metadata": {},
   "outputs": [],
   "source": []
  }
 ],
 "metadata": {
  "kernelspec": {
   "display_name": "Python 3 (ipykernel)",
   "language": "python",
   "name": "python3"
  },
  "language_info": {
   "codemirror_mode": {
    "name": "ipython",
    "version": 3
   },
   "file_extension": ".py",
   "mimetype": "text/x-python",
   "name": "python",
   "nbconvert_exporter": "python",
   "pygments_lexer": "ipython3",
   "version": "3.12.9"
  }
 },
 "nbformat": 4,
 "nbformat_minor": 5
}
