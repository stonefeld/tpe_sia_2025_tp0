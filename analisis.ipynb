{
 "cells": [
  {
   "cell_type": "markdown",
   "id": "942ccac7-2492-4ba5-a6a9-58d466c2d6b3",
   "metadata": {},
   "source": [
    "# TP0: Introducción al Análisis de Datos\n",
    "## Preguntas Guía\n",
    "\n",
    "Se desea evaluar qué factores influyen en la captura de un Pokemon teniendo en cuenta los parámetros del mismo junto con la pokebola utilizada. Para ello se deberán generar distintos gráficos que representen las respuestas a las siguientes preguntas guía:\n",
    "\n",
    "1. Acerca de las pokebolas:\n",
    "    1. Ejecutando la función 100 veces, para cada Pokemon en condiciones ideales (HP: 100%, LVL 100) ¿Cuál es la probabilidad de capturar promedio para cada pokebola?\n",
    "    2. ¿Es cierto que algunas pokebolas son más o menos efectivas dependiendo de propiedades intrínsecas de cada Pokemon? Justificar.\n",
    "       > **Sugerencia**: Comparar efectividad (_success/total_attemps_) como proporción de la efectividad de la Pokebola básica para cada Pokemon\n",
    "\n",
    "2. Acerca del estado del Pokemon:\n",
    "    1. ¿Las condiciones de salud tienen algún efecto sobre la efectividad de la captura? Si es ası́, ¿Cuál es más o menos efectiva?\n",
    "    2. ¿Cómo afectan los puntos de vida a la efectividad de la captura?\n",
    "       > **Sugerencia**: Elegir uno o dos Pokemones y manteniendo el resto de los parámetros constantes, calcular la probabilidad de captura para distintos HP %\n",
    "\n",
    "    3. ¿Qué parámetros son los que más afectan la probabilidad de captura?\n",
    "    4. Teniendo en cuenta uno o dos pokemones distintos: ¿Qué combinación de condiciones (propiedades mutables) y pokebola conviene utilizar para capturarlos?\n",
    "    5. A partir del punto anterior, ¿serı́a efectiva otra combinación de parámetros teniendo en cuenta un nivel del pokemon más bajo (o más alto)?"
   ]
  },
  {
   "cell_type": "markdown",
   "id": "9c4f8fc7-6750-49f4-b88f-46384a2931b2",
   "metadata": {},
   "source": [
    "## Resolución\n",
    "Primero inicializamos el entorno, agregando las librerías que vamos a estar utilizando."
   ]
  },
  {
   "cell_type": "code",
   "execution_count": 1,
   "id": "567519a3-f6f6-424f-a6f5-826b18313e12",
   "metadata": {},
   "outputs": [],
   "source": [
    "import json\n",
    "import sys\n",
    "\n",
    "import numpy as np\n",
    "\n",
    "from src.catching import attempt_catch\n",
    "from src.pokemon import PokemonFactory, StatusEffect"
   ]
  },
  {
   "cell_type": "markdown",
   "id": "7e1b5676-33f0-48f0-ab8c-bc2cf81f46ea",
   "metadata": {},
   "source": [
    "Instanciamos un factory de Pokemones y declaramos todas las Pokebolas disponibles."
   ]
  },
  {
   "cell_type": "code",
   "execution_count": 2,
   "id": "27d706a2-e9a2-4d9d-abed-a8b97fe40eb4",
   "metadata": {},
   "outputs": [],
   "source": [
    "factory = PokemonFactory(\"pokemon.json\")\n",
    "pokeballs = [\"pokeball\", \"ultraball\", \"fastball\", \"heavyball\"]"
   ]
  },
  {
   "cell_type": "markdown",
   "id": "42d9e17b-df39-45db-b42b-acf307546e78",
   "metadata": {},
   "source": [
    "Tenemos dos archivos de configuración para las pruebas. Uno de un **Caterpie** y el otro de un **Snorlax**. Vamos a declarar los archivos para poder realizar las pruebas."
   ]
  },
  {
   "cell_type": "code",
   "execution_count": 3,
   "id": "6c29307f-8852-439f-832b-5469bfceda8b",
   "metadata": {},
   "outputs": [],
   "source": [
    "caterpie_path = \"configs/caterpie.json\"\n",
    "snorlax_path = \"configs/caterpie.json\""
   ]
  },
  {
   "cell_type": "markdown",
   "id": "5f38fa0e-6916-4e3b-a1c3-a62dfcab4c57",
   "metadata": {},
   "source": [
    "### Caterpie\n",
    "Primero vamos a probar con el archivo de configuación para el **Caterpie**."
   ]
  },
  {
   "cell_type": "code",
   "execution_count": 4,
   "id": "56a32f08-aa1e-4f3a-888a-7bc9d5e39804",
   "metadata": {},
   "outputs": [],
   "source": [
    "with open(caterpie_path, \"r\") as f:\n",
    "    config = json.load(f)\n",
    "\n",
    "    # Creamos un Pokemon de nivel 100 con 100% de HP\n",
    "    pokemon = factory.create(config[\"pokemon\"], 100, StatusEffect.NONE, 1)"
   ]
  },
  {
   "cell_type": "markdown",
   "id": "b4b28681-7049-4238-aa8f-7b14559518b6",
   "metadata": {},
   "source": [
    "Ahora vamos a intentar atrapar al Pokemon 100 veces, obteniendo el resultado de si efectivamente lo atrapamos y la probabilidad de hacerlo. Vamos a hacerlo con cada una de las Pokebolas disponibles."
   ]
  },
  {
   "cell_type": "code",
   "execution_count": 5,
   "id": "cfbed961-cc5a-4414-b218-f4ad3507cff4",
   "metadata": {},
   "outputs": [],
   "source": [
    "catches = []\n",
    "\n",
    "for i, ball in enumerate(pokeballs):\n",
    "    catches.append([])\n",
    "    for _ in range(100):\n",
    "        catches[i].append(attempt_catch(pokemon, ball))"
   ]
  },
  {
   "cell_type": "markdown",
   "id": "d5bcfef0-00d5-4b9a-8595-c55518007d33",
   "metadata": {},
   "source": [
    "Ahora vamos a calcular el promedio de capturar cada al **Caterpie** con cada Pokebola"
   ]
  },
  {
   "cell_type": "code",
   "execution_count": 6,
   "id": "ac461ad9-c4ce-4a2a-a730-258a7e466766",
   "metadata": {
    "scrolled": true
   },
   "outputs": [],
   "source": [
    "average_probs = [\n",
    "    np.mean([attempt[1] for attempt in pokeball])\n",
    "    for pokeball in catches\n",
    "]"
   ]
  },
  {
   "cell_type": "markdown",
   "id": "d35076c5-b957-417d-ba77-0e1c883ab933",
   "metadata": {},
   "source": [
    "Finalmente con esto podemos responder el punto **A)** para **Caterpie**, donde las probabilidades terminaron siendo"
   ]
  },
  {
   "cell_type": "code",
   "execution_count": 7,
   "id": "0c4f157c-2c5d-47e6-ae88-2beec4f566bb",
   "metadata": {},
   "outputs": [
    {
     "name": "stdout",
     "output_type": "stream",
     "text": [
      "La probabilidad de captura con una pokeball fue de: 0.3320\n",
      "La probabilidad de captura con una ultraball fue de: 0.6641\n",
      "La probabilidad de captura con una fastball fue de: 0.3320\n",
      "La probabilidad de captura con una heavyball fue de: 0.3060\n"
     ]
    }
   ],
   "source": [
    "for i, ball in enumerate(pokeballs):\n",
    "    print(f\"La probabilidad de captura con una {ball} fue de: {average_probs[i]:.4f}\")"
   ]
  },
  {
   "cell_type": "markdown",
   "id": "ead5cee2-59bf-4d7f-a129-7e71f73c9423",
   "metadata": {},
   "source": [
    "### Snorlax\n",
    "Ahora vamos a recrear el mismo proceso para **Snorlax**"
   ]
  },
  {
   "cell_type": "code",
   "execution_count": 8,
   "id": "fd93791f-1f3a-4f99-80dc-b686ae75ec82",
   "metadata": {},
   "outputs": [
    {
     "name": "stdout",
     "output_type": "stream",
     "text": [
      "La probabilidad de captura con una pokeball fue de: 0.3320\n",
      "La probabilidad de captura con una ultraball fue de: 0.6641\n",
      "La probabilidad de captura con una fastball fue de: 0.3320\n",
      "La probabilidad de captura con una heavyball fue de: 0.3060\n"
     ]
    }
   ],
   "source": [
    "with open(snorlax_path, \"r\") as f:\n",
    "    config = json.load(f)\n",
    "    pokemon = factory.create(config[\"pokemon\"], 100, StatusEffect.NONE, 1)\n",
    "\n",
    "catches = []\n",
    "\n",
    "for i, ball in enumerate(pokeballs):\n",
    "    catches.append([])\n",
    "    for _ in range(100):\n",
    "        catches[i].append(attempt_catch(pokemon, ball))\n",
    "\n",
    "average_probs = [\n",
    "    np.mean([attempt[1] for attempt in pokeball])\n",
    "    for pokeball in catches\n",
    "]\n",
    "\n",
    "for i, ball in enumerate(pokeballs):\n",
    "    print(f\"La probabilidad de captura con una {ball} fue de: {average_probs[i]:.4f}\")"
   ]
  }
 ],
 "metadata": {
  "kernelspec": {
   "display_name": "Python 3 (ipykernel)",
   "language": "python",
   "name": "python3"
  },
  "language_info": {
   "codemirror_mode": {
    "name": "ipython",
    "version": 3
   },
   "file_extension": ".py",
   "mimetype": "text/x-python",
   "name": "python",
   "nbconvert_exporter": "python",
   "pygments_lexer": "ipython3",
   "version": "3.12.9"
  }
 },
 "nbformat": 4,
 "nbformat_minor": 5
}
